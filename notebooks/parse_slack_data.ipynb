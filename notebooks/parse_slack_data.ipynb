{
 "cells": [
  {
   "cell_type": "code",
   "execution_count": 79,
   "metadata": {},
   "outputs": [],
   "source": [
    "%reload_ext autoreload\n",
    "%autoreload 2"
   ]
  },
  {
   "cell_type": "code",
   "execution_count": 80,
   "metadata": {},
   "outputs": [],
   "source": [
    "import os, sys\n",
    "import re\n",
    "import json\n",
    "import glob\n",
    "import datetime\n",
    "from collections import Counter\n",
    "import pandas as pd\n",
    "from matplotlib import pyplot as plt\n",
    "import seaborn as sns\n",
    "from nltk.corpus import stopwords\n",
    "from wordcloud import WordCloud\n",
    "from sklearn.feature_extraction.text import CountVectorizer\n",
    "from sklearn.decomposition import LatentDirichletAllocation\n",
    "from gensim import corpora, models"
   ]
  },
  {
   "cell_type": "code",
   "execution_count": 81,
   "metadata": {},
   "outputs": [
    {
     "name": "stderr",
     "output_type": "stream",
     "text": [
      "[nltk_data] Downloading package stopwords to /home/habte/nltk_data...\n",
      "[nltk_data]   Package stopwords is already up-to-date!\n",
      "[nltk_data] Downloading package punkt to /home/habte/nltk_data...\n",
      "[nltk_data]   Package punkt is already up-to-date!\n"
     ]
    },
    {
     "data": {
      "text/plain": [
       "True"
      ]
     },
     "execution_count": 81,
     "metadata": {},
     "output_type": "execute_result"
    }
   ],
   "source": [
    "from sklearn.feature_extraction.text import CountVectorizer\n",
    "from sklearn.decomposition import LatentDirichletAllocation\n",
    "import matplotlib.pyplot as plt\n",
    "import nltk\n",
    "nltk.download('stopwords')\n",
    "nltk.download('punkt')"
   ]
  },
  {
   "cell_type": "code",
   "execution_count": 82,
   "metadata": {},
   "outputs": [],
   "source": [
    "# Add parent directory to path to import modules from src\n",
    "rpath = os.path.abspath('..')\n",
    "if rpath not in sys.path:\n",
    "    sys.path.insert(0, rpath)\n",
    "\n",
    "from src.loader import SlackDataLoader\n",
    "import src.utils as utils"
   ]
  },
  {
   "cell_type": "code",
   "execution_count": null,
   "metadata": {},
   "outputs": [],
   "source": [
    "# Initialize DataLoader\n",
    "sl = SlackDataLoader('../Anonymized_B6SlackExport_25Nov23/anonymized/')\n"
   ]
  },
  {
   "cell_type": "markdown",
   "metadata": {},
   "source": [
    "### Columns we can get from a slack message<br>\n",
    "\n",
    "message_type, message_content, sender_id, time_sent, message_distribution, time_thread_start, reply_count, reply_user_count, time_thread_end, reply_users"
   ]
  },
  {
   "cell_type": "markdown",
   "metadata": {},
   "source": [
    "From a single slack message, we can get <br>\n",
    "\n",
    "1. The message<br>\n",
    "2. Type (message, file, link, etc)<br>\n",
    "3. The sender_id (assigned by slack)<br>\n",
    "4. The time the message was sent<br>\n",
    "5. The team (i don't know what that is now)<br>\n",
    "6. The type of the message (broadcast message, inhouse, just messgae)<br>\n",
    "7. The thread the message generated (from here we can go):<br>\n",
    "    7.1 Text/content of the message<br>\n",
    "    7.2 The thread time of the message<br>\n",
    "    7.3 The thread count (reply count)<br>\n",
    "    7.4 The number of user that reply the message (count of users that participated in the thread)<br>\n",
    "    7.5 The time the last thread message was sent <br>\n",
    "    7.6 The users that participated in the thread (their ids are stored as well)<br>"
   ]
  },
  {
   "cell_type": "code",
   "execution_count": 84,
   "metadata": {},
   "outputs": [],
   "source": [
    "def get_top_20_user(data, channel='Random'):\n",
    "    \"\"\"get user with the highest number of message sent to any channel\"\"\"\n",
    "\n",
    "    data['sender_name'].value_counts()[:20].plot.bar(figsize=(15, 7.5))\n",
    "    plt.title(f'Top 20 Message Senders in #{channel} channels', size=15, fontweight='bold')\n",
    "    plt.xlabel(\"Sender Name\", size=18); plt.ylabel(\"Frequency\", size=14);\n",
    "    plt.xticks(size=12); plt.yticks(size=12);\n",
    "    plt.show()\n",
    "\n",
    "    data['sender_name'].value_counts()[-10:].plot.bar(figsize=(15, 7.5))\n",
    "    plt.title(f'Bottom 10 Message Senders in #{channel} channels', size=15, fontweight='bold')\n",
    "    plt.xlabel(\"Sender Name\", size=18); plt.ylabel(\"Frequency\", size=14);\n",
    "    plt.xticks(size=12); plt.yticks(size=12);\n",
    "    plt.show()\n",
    "\n",
    "def draw_avg_reply_count(data, channel='Random'):\n",
    "    \"\"\"who commands many reply?\"\"\"\n",
    "\n",
    "    data.groupby('sender_name')['reply_count'].mean().sort_values(ascending=False)[:20]\\\n",
    "        .plot(kind='bar', figsize=(15,7.5));\n",
    "    plt.title(f'Average Number of reply count per Sender in #{channel}', size=20, fontweight='bold')\n",
    "    plt.xlabel(\"Sender Name\", size=18); plt.ylabel(\"Frequency\", size=18);\n",
    "    plt.xticks(size=14); plt.yticks(size=14);\n",
    "    plt.show()\n",
    "\n",
    "def draw_avg_reply_users_count(data, channel='Random'):\n",
    "    \"\"\"who commands many user reply?\"\"\"\n",
    "\n",
    "    data.groupby('sender_name')['reply_users_count'].mean().sort_values(ascending=False)[:20].plot(kind='bar',\n",
    "     figsize=(15,7.5));\n",
    "    plt.title(f'Average Number of reply user count per Sender in #{channel}', size=20, fontweight='bold')\n",
    "    plt.xlabel(\"Sender Name\", size=18); plt.ylabel(\"Frequency\", size=18);\n",
    "    plt.xticks(size=14); plt.yticks(size=14);\n",
    "    plt.show()\n",
    "\n",
    "def draw_wordcloud(msg_content, week):    \n",
    "    # word cloud visualization\n",
    "    allWords = ' '.join([twts for twts in msg_content])\n",
    "    wordCloud = WordCloud(background_color='#975429', width=500, height=300, random_state=21, max_words=500, mode='RGBA',\n",
    "                            max_font_size=140, stopwords=stopwords.words('english')).generate(allWords)\n",
    "    plt.figure(figsize=(15, 7.5))\n",
    "    plt.imshow(wordCloud, interpolation=\"bilinear\")\n",
    "    plt.axis('off')\n",
    "    plt.tight_layout()\n",
    "    plt.title(f'WordCloud for {week}', size=30)\n",
    "    plt.show()\n",
    "\n",
    "def draw_user_reaction(data, channel='General'):\n",
    "    data.groupby('sender_name')[['reply_count', 'reply_users_count']].sum()\\\n",
    "        .sort_values(by='reply_count',ascending=False)[:10].plot(kind='bar', figsize=(15, 7.5))\n",
    "    plt.title(f'User with the most reaction in #{channel}', size=25);\n",
    "    plt.xlabel(\"Sender Name\", size=18); plt.ylabel(\"Frequency\", size=18);\n",
    "    plt.xticks(size=14); plt.yticks(size=14);\n",
    "    plt.show()\n",
    "def top_10_senders_eda(df):\n",
    "\n",
    "    # Find the top 10 senders by maximum reply_count\n",
    "    top_10_senders = df.groupby('sender_name')['reply_count'].max().nlargest(10).reset_index()\n",
    "\n",
    "    # Plot a bar chart for the top 10 senders by maximum reply_count\n",
    "    plt.figure(figsize=(12, 6))\n",
    "    sns.barplot(x='sender_name', y='reply_count', data=top_10_senders)\n",
    "    plt.title('Top 10 Senders by Maximum Reply Count')\n",
    "    plt.xlabel('Sender Name')\n",
    "    plt.ylabel('Maximum Reply Count')\n",
    "    plt.xticks(rotation=45)\n",
    "    plt.show()\n",
    "\n",
    "def bottom_10_senders_eda(df):\n",
    "\n",
    "    # Find the top 10 senders by maximum reply_count\n",
    "    bottom_10_senders_eda = df.groupby('sender_name')['reply_count'].min().nsmallest(10).reset_index()\n",
    "\n",
    "    # Plot a bar chart for the top 10 senders by maximum reply_count\n",
    "    plt.figure(figsize=(12, 6))\n",
    "    sns.barplot(x='sender_name', y='reply_count', data=bottom_10_senders_eda)\n",
    "    plt.title('Bottom 10 Senders by Maximum Reply Count')\n",
    "    plt.xlabel('Sender Name')\n",
    "    plt.ylabel('Maximum Reply Count')\n",
    "    plt.xticks(rotation=45)\n",
    "    plt.show()"
   ]
  },
  {
   "cell_type": "markdown",
   "metadata": {},
   "source": [
    "## Insight Extraction\n",
    "\n",
    "Below are some useful questions to answer. Feel free to explore to answer other interesting questions that may be of help to get insight about student's behaviour, need, and future performance "
   ]
  },
  {
   "cell_type": "code",
   "execution_count": 139,
   "metadata": {},
   "outputs": [],
   "source": [
    "\n",
    "df_community = sl.slack_parser('/home/habte/week0/data/anonymized_new /anonymized')"
   ]
  },
  {
   "cell_type": "code",
   "execution_count": 140,
   "metadata": {},
   "outputs": [
    {
     "data": {
      "text/html": [
       "<div>\n",
       "<style scoped>\n",
       "    .dataframe tbody tr th:only-of-type {\n",
       "        vertical-align: middle;\n",
       "    }\n",
       "\n",
       "    .dataframe tbody tr th {\n",
       "        vertical-align: top;\n",
       "    }\n",
       "\n",
       "    .dataframe thead th {\n",
       "        text-align: right;\n",
       "    }\n",
       "</style>\n",
       "<table border=\"1\" class=\"dataframe\">\n",
       "  <thead>\n",
       "    <tr style=\"text-align: right;\">\n",
       "      <th></th>\n",
       "      <th>msg_type</th>\n",
       "      <th>msg_content</th>\n",
       "      <th>sender_name</th>\n",
       "      <th>msg_sent_time</th>\n",
       "      <th>msg_dist_type</th>\n",
       "      <th>time_thread_start</th>\n",
       "      <th>reply_count</th>\n",
       "      <th>reply_users_count</th>\n",
       "      <th>reply_users</th>\n",
       "      <th>tm_thread_end</th>\n",
       "      <th>channel</th>\n",
       "    </tr>\n",
       "  </thead>\n",
       "  <tbody>\n",
       "  </tbody>\n",
       "</table>\n",
       "</div>"
      ],
      "text/plain": [
       "Empty DataFrame\n",
       "Columns: [msg_type, msg_content, sender_name, msg_sent_time, msg_dist_type, time_thread_start, reply_count, reply_users_count, reply_users, tm_thread_end, channel]\n",
       "Index: []"
      ]
     },
     "execution_count": 140,
     "metadata": {},
     "output_type": "execute_result"
    }
   ],
   "source": [
    "df_community.head()"
   ]
  },
  {
   "cell_type": "code",
   "execution_count": 141,
   "metadata": {},
   "outputs": [
    {
     "name": "stdout",
     "output_type": "stream",
     "text": [
      "DataFrame Info:\n",
      "<class 'pandas.core.frame.DataFrame'>\n",
      "RangeIndex: 0 entries\n",
      "Data columns (total 11 columns):\n",
      " #   Column             Non-Null Count  Dtype \n",
      "---  ------             --------------  ----- \n",
      " 0   msg_type           0 non-null      object\n",
      " 1   msg_content        0 non-null      object\n",
      " 2   sender_name        0 non-null      object\n",
      " 3   msg_sent_time      0 non-null      object\n",
      " 4   msg_dist_type      0 non-null      object\n",
      " 5   time_thread_start  0 non-null      object\n",
      " 6   reply_count        0 non-null      int64 \n",
      " 7   reply_users_count  0 non-null      object\n",
      " 8   reply_users        0 non-null      object\n",
      " 9   tm_thread_end      0 non-null      object\n",
      " 10  channel            0 non-null      object\n",
      "dtypes: int64(1), object(10)\n",
      "memory usage: 132.0+ bytes\n",
      "None\n",
      "Sample Rows:\n",
      "Empty DataFrame\n",
      "Columns: [msg_type, msg_content, sender_name, msg_sent_time, msg_dist_type, time_thread_start, reply_count, reply_users_count, reply_users, tm_thread_end, channel]\n",
      "Index: []\n"
     ]
    }
   ],
   "source": [
    "# Inside the slack_parser method after creating the DataFrame\n",
    "print(\"DataFrame Info:\")\n",
    "\n",
    "print(df_community.info())\n",
    "\n",
    "\n",
    "print(\"Sample Rows:\")\n",
    "print(df_community.head())"
   ]
  },
  {
   "cell_type": "code",
   "execution_count": 87,
   "metadata": {},
   "outputs": [],
   "source": [
    "### get user with the highest number of message sent to any channel\n",
    "#get_top_20_user(df_community, channel='all-community-building')"
   ]
  },
  {
   "cell_type": "code",
   "execution_count": 88,
   "metadata": {},
   "outputs": [],
   "source": [
    "# Average number of reply count per sender\n",
    "#draw_avg_reply_count(df_community, channel='all-community-building')"
   ]
  },
  {
   "cell_type": "code",
   "execution_count": 89,
   "metadata": {},
   "outputs": [],
   "source": [
    "# Visualize reply counts per user per channel\n",
    "msg_content = sl.get_channel_messages(channel_name='all-community-building')"
   ]
  },
  {
   "cell_type": "code",
   "execution_count": 90,
   "metadata": {},
   "outputs": [
    {
     "ename": "TypeError",
     "evalue": "no numeric data to plot",
     "output_type": "error",
     "traceback": [
      "\u001b[0;31m---------------------------------------------------------------------------\u001b[0m",
      "\u001b[0;31mTypeError\u001b[0m                                 Traceback (most recent call last)",
      "\u001b[1;32m/home/habte/network_analysis-2/notebooks/parse_slack_data.ipynb Cell 15\u001b[0m line \u001b[0;36m2\n\u001b[1;32m      <a href='vscode-notebook-cell:/home/habte/network_analysis-2/notebooks/parse_slack_data.ipynb#X20sZmlsZQ%3D%3D?line=0'>1</a>\u001b[0m \u001b[39m# Average number of reply count per sender\u001b[39;00m\n\u001b[0;32m----> <a href='vscode-notebook-cell:/home/habte/network_analysis-2/notebooks/parse_slack_data.ipynb#X20sZmlsZQ%3D%3D?line=1'>2</a>\u001b[0m draw_avg_reply_count(df_community, channel\u001b[39m=\u001b[39m\u001b[39m'\u001b[39m\u001b[39mall-community-building\u001b[39m\u001b[39m'\u001b[39m)\n",
      "\u001b[1;32m/home/habte/network_analysis-2/notebooks/parse_slack_data.ipynb Cell 15\u001b[0m line \u001b[0;36m2\n\u001b[1;32m     <a href='vscode-notebook-cell:/home/habte/network_analysis-2/notebooks/parse_slack_data.ipynb#X20sZmlsZQ%3D%3D?line=15'>16</a>\u001b[0m \u001b[39mdef\u001b[39;00m \u001b[39mdraw_avg_reply_count\u001b[39m(data, channel\u001b[39m=\u001b[39m\u001b[39m'\u001b[39m\u001b[39mRandom\u001b[39m\u001b[39m'\u001b[39m):\n\u001b[1;32m     <a href='vscode-notebook-cell:/home/habte/network_analysis-2/notebooks/parse_slack_data.ipynb#X20sZmlsZQ%3D%3D?line=16'>17</a>\u001b[0m \u001b[39m    \u001b[39m\u001b[39m\"\"\"who commands many reply?\"\"\"\u001b[39;00m\n\u001b[1;32m     <a href='vscode-notebook-cell:/home/habte/network_analysis-2/notebooks/parse_slack_data.ipynb#X20sZmlsZQ%3D%3D?line=18'>19</a>\u001b[0m     data\u001b[39m.\u001b[39mgroupby(\u001b[39m'\u001b[39m\u001b[39msender_name\u001b[39m\u001b[39m'\u001b[39m)[\u001b[39m'\u001b[39m\u001b[39mreply_count\u001b[39m\u001b[39m'\u001b[39m]\u001b[39m.\u001b[39mmean()\u001b[39m.\u001b[39msort_values(ascending\u001b[39m=\u001b[39m\u001b[39mFalse\u001b[39;00m)[:\u001b[39m20\u001b[39m]\\\n\u001b[0;32m---> <a href='vscode-notebook-cell:/home/habte/network_analysis-2/notebooks/parse_slack_data.ipynb#X20sZmlsZQ%3D%3D?line=19'>20</a>\u001b[0m         \u001b[39m.\u001b[39mplot(kind\u001b[39m=\u001b[39m\u001b[39m'\u001b[39m\u001b[39mbar\u001b[39m\u001b[39m'\u001b[39m, figsize\u001b[39m=\u001b[39m(\u001b[39m15\u001b[39m,\u001b[39m7.5\u001b[39m));\n\u001b[1;32m     <a href='vscode-notebook-cell:/home/habte/network_analysis-2/notebooks/parse_slack_data.ipynb#X20sZmlsZQ%3D%3D?line=20'>21</a>\u001b[0m     plt\u001b[39m.\u001b[39mtitle(\u001b[39mf\u001b[39m\u001b[39m'\u001b[39m\u001b[39mAverage Number of reply count per Sender in #\u001b[39m\u001b[39m{\u001b[39;00mchannel\u001b[39m}\u001b[39;00m\u001b[39m'\u001b[39m, size\u001b[39m=\u001b[39m\u001b[39m20\u001b[39m, fontweight\u001b[39m=\u001b[39m\u001b[39m'\u001b[39m\u001b[39mbold\u001b[39m\u001b[39m'\u001b[39m)\n\u001b[1;32m     <a href='vscode-notebook-cell:/home/habte/network_analysis-2/notebooks/parse_slack_data.ipynb#X20sZmlsZQ%3D%3D?line=21'>22</a>\u001b[0m     plt\u001b[39m.\u001b[39mxlabel(\u001b[39m\"\u001b[39m\u001b[39mSender Name\u001b[39m\u001b[39m\"\u001b[39m, size\u001b[39m=\u001b[39m\u001b[39m18\u001b[39m); plt\u001b[39m.\u001b[39mylabel(\u001b[39m\"\u001b[39m\u001b[39mFrequency\u001b[39m\u001b[39m\"\u001b[39m, size\u001b[39m=\u001b[39m\u001b[39m18\u001b[39m);\n",
      "File \u001b[0;32m~/anaconda3/lib/python3.11/site-packages/pandas/plotting/_core.py:975\u001b[0m, in \u001b[0;36mPlotAccessor.__call__\u001b[0;34m(self, *args, **kwargs)\u001b[0m\n\u001b[1;32m    972\u001b[0m             label_name \u001b[39m=\u001b[39m label_kw \u001b[39mor\u001b[39;00m data\u001b[39m.\u001b[39mcolumns\n\u001b[1;32m    973\u001b[0m             data\u001b[39m.\u001b[39mcolumns \u001b[39m=\u001b[39m label_name\n\u001b[0;32m--> 975\u001b[0m \u001b[39mreturn\u001b[39;00m plot_backend\u001b[39m.\u001b[39mplot(data, kind\u001b[39m=\u001b[39mkind, \u001b[39m*\u001b[39m\u001b[39m*\u001b[39mkwargs)\n",
      "File \u001b[0;32m~/anaconda3/lib/python3.11/site-packages/pandas/plotting/_matplotlib/__init__.py:71\u001b[0m, in \u001b[0;36mplot\u001b[0;34m(data, kind, **kwargs)\u001b[0m\n\u001b[1;32m     69\u001b[0m         kwargs[\u001b[39m\"\u001b[39m\u001b[39max\u001b[39m\u001b[39m\"\u001b[39m] \u001b[39m=\u001b[39m \u001b[39mgetattr\u001b[39m(ax, \u001b[39m\"\u001b[39m\u001b[39mleft_ax\u001b[39m\u001b[39m\"\u001b[39m, ax)\n\u001b[1;32m     70\u001b[0m plot_obj \u001b[39m=\u001b[39m PLOT_CLASSES[kind](data, \u001b[39m*\u001b[39m\u001b[39m*\u001b[39mkwargs)\n\u001b[0;32m---> 71\u001b[0m plot_obj\u001b[39m.\u001b[39mgenerate()\n\u001b[1;32m     72\u001b[0m plot_obj\u001b[39m.\u001b[39mdraw()\n\u001b[1;32m     73\u001b[0m \u001b[39mreturn\u001b[39;00m plot_obj\u001b[39m.\u001b[39mresult\n",
      "File \u001b[0;32m~/anaconda3/lib/python3.11/site-packages/pandas/plotting/_matplotlib/core.py:446\u001b[0m, in \u001b[0;36mMPLPlot.generate\u001b[0;34m(self)\u001b[0m\n\u001b[1;32m    444\u001b[0m \u001b[39mdef\u001b[39;00m \u001b[39mgenerate\u001b[39m(\u001b[39mself\u001b[39m) \u001b[39m-\u001b[39m\u001b[39m>\u001b[39m \u001b[39mNone\u001b[39;00m:\n\u001b[1;32m    445\u001b[0m     \u001b[39mself\u001b[39m\u001b[39m.\u001b[39m_args_adjust()\n\u001b[0;32m--> 446\u001b[0m     \u001b[39mself\u001b[39m\u001b[39m.\u001b[39m_compute_plot_data()\n\u001b[1;32m    447\u001b[0m     \u001b[39mself\u001b[39m\u001b[39m.\u001b[39m_setup_subplots()\n\u001b[1;32m    448\u001b[0m     \u001b[39mself\u001b[39m\u001b[39m.\u001b[39m_make_plot()\n",
      "File \u001b[0;32m~/anaconda3/lib/python3.11/site-packages/pandas/plotting/_matplotlib/core.py:632\u001b[0m, in \u001b[0;36mMPLPlot._compute_plot_data\u001b[0;34m(self)\u001b[0m\n\u001b[1;32m    630\u001b[0m \u001b[39m# no non-numeric frames or series allowed\u001b[39;00m\n\u001b[1;32m    631\u001b[0m \u001b[39mif\u001b[39;00m is_empty:\n\u001b[0;32m--> 632\u001b[0m     \u001b[39mraise\u001b[39;00m \u001b[39mTypeError\u001b[39;00m(\u001b[39m\"\u001b[39m\u001b[39mno numeric data to plot\u001b[39m\u001b[39m\"\u001b[39m)\n\u001b[1;32m    634\u001b[0m \u001b[39mself\u001b[39m\u001b[39m.\u001b[39mdata \u001b[39m=\u001b[39m numeric_data\u001b[39m.\u001b[39mapply(\u001b[39mself\u001b[39m\u001b[39m.\u001b[39m_convert_to_ndarray)\n",
      "\u001b[0;31mTypeError\u001b[0m: no numeric data to plot"
     ]
    }
   ],
   "source": [
    "# Average number of reply count per sender\n",
    "draw_avg_reply_count(df_community, channel='all-community-building')"
   ]
  },
  {
   "cell_type": "code",
   "execution_count": null,
   "metadata": {},
   "outputs": [],
   "source": [
    "max_reply_count= df_community['reply_count'].max()\n",
    "max_reply_count"
   ]
  },
  {
   "cell_type": "code",
   "execution_count": null,
   "metadata": {},
   "outputs": [],
   "source": [
    "# Find the index of the maximum reply_count\n",
    "max_reply_index = df_community['reply_count'].idxmax()\n",
    "\n",
    "# Get the user with the maximum reply_count\n",
    "user_with_max_reply = df_community.loc[max_reply_index, 'sender_name']\n",
    "\n",
    "print(f\"The user with the maximum reply_count is: {user_with_max_reply}\")"
   ]
  },
  {
   "cell_type": "code",
   "execution_count": null,
   "metadata": {},
   "outputs": [],
   "source": [
    "# Find the top 10 senders by maximum reply_count\n",
    "top_10_senders = df_community.groupby('sender_name')['reply_count'].max().nlargest(10).reset_index()\n",
    "# top_10_users = df.nlargest(10, 'reply_count')\n",
    "print(\"Top 10 users by reply_count:\")\n",
    "print(top_10_senders[['sender_name', 'reply_count']])"
   ]
  },
  {
   "cell_type": "code",
   "execution_count": null,
   "metadata": {},
   "outputs": [],
   "source": [
    "# Bottom 10 users by reply_count\n",
    "bottom_10_users = df_community.groupby('sender_name')['reply_count'].min().nsmallest(10).reset_index()\n",
    "print(\"\\nBottom 10 users by reply_count:\")\n",
    "print(bottom_10_users[['sender_name', 'reply_count']])"
   ]
  },
  {
   "cell_type": "code",
   "execution_count": null,
   "metadata": {},
   "outputs": [],
   "source": [
    "# histogram plot for bottom_10_users\n",
    "bottom_10_senders_eda(df_community)"
   ]
  },
  {
   "cell_type": "code",
   "execution_count": null,
   "metadata": {},
   "outputs": [],
   "source": [
    "df_community.shape"
   ]
  },
  {
   "cell_type": "code",
   "execution_count": null,
   "metadata": {},
   "outputs": [],
   "source": [
    "# let's visualize it for all-community-building channel\n",
    "# Aggregate reply counts per user\n",
    "pivot_df = df_community.groupby('sender_name')['reply_count'].sum().reset_index()\n",
    "\n",
    "# Plot the bar chart\n",
    "plt.figure(figsize=(12, 6))\n",
    "plt.bar(pivot_df['sender_name'], pivot_df['reply_count'], color='skyblue')\n",
    "plt.xlabel('User')\n",
    "plt.ylabel('Reply Count')\n",
    "plt.title('Reply Counts per User for channel all-community-building')\n",
    "plt.xticks(rotation=45, ha='right')  # Rotate x-axis labels for better readability\n",
    "plt.tight_layout()\n",
    "plt.show()"
   ]
  },
  {
   "cell_type": "code",
   "execution_count": null,
   "metadata": {},
   "outputs": [],
   "source": [
    "# Convert 'msg_sent_time' to datetime with Unix timestamp format\n",
    "df_community['msg_sent_time'] = pd.to_datetime(df_community['msg_sent_time'], unit='s')\n",
    "\n",
    "# Extract the hour from the 'msg_sent_time' column\n",
    "df_community['hour'] = df_community['msg_sent_time'].dt.hour\n",
    "\n",
    "# Plot a histogram to visualize the distribution of messages across hours\n",
    "plt.figure(figsize=(12, 6))\n",
    "df_community['hour'].plot(kind='hist', bins=24, rwidth=0.8, color='#86bf91', alpha=0.7)\n",
    "plt.title('Distribution of Messages Across Hours of the Day')\n",
    "plt.xlabel('Hour of the Day')\n",
    "plt.ylabel('Number of Messages')\n",
    "plt.xticks(range(24))\n",
    "plt.grid(axis='y', linestyle='--', alpha=0.7)\n",
    "plt.show()\n",
    "\n",
    "# Find the hour range with the highest message count\n",
    "most_active_hour_range = df_community['hour'].value_counts().idxmax()\n",
    "#print(f\"The time range of the day with the most messages is approximately {most_active_hour_range}:00 to {(mos)}\")"
   ]
  },
  {
   "cell_type": "code",
   "execution_count": null,
   "metadata": {},
   "outputs": [],
   "source": [
    "# Convert 'msg_sent_time' and 'tm_thread_end' to datetime\n",
    "df_community['msg_sent_time'] = pd.to_datetime(df_community['msg_sent_time'], unit='s')\n",
    "df_community['time_thread_start'] = pd.to_datetime(df_community['time_thread_start'], unit='s')\n",
    "\n",
    "# Calculate the time taken to reply to each message\n",
    "df_community['reply_time'] = (df_community['time_thread_start'] - df_community['msg_sent_time']).dt.total_seconds()\n",
    "\n",
    "average_reply_time_per_type = df_community.groupby('msg_type')['reply_time'].mean()\n",
    "\n",
    "# Plot a bar chart\n",
    "plt.figure(figsize=(12, 6))\n",
    "average_reply_time_per_type.plot(kind='bar', color='#86bf91', alpha=0.7)\n",
    "plt.title('Average Reply Time per Message Type')\n",
    "plt.xlabel('Message Type')\n",
    "plt.ylabel('Average Reply Time (seconds)')\n",
    "plt.xticks(rotation=45)\n",
    "plt.show()"
   ]
  },
  {
   "cell_type": "code",
   "execution_count": null,
   "metadata": {},
   "outputs": [],
   "source": [
    " #Relationship between # of messages and # of reactions\n",
    "\n",
    "    \n",
    "df_reaction = sl.parse_slack_reaction(channel='all-technical-support',path_channel='../Anonymized_B6SlackExport_25Nov23/anonymized/all-technical-support/')"
   ]
  },
  {
   "cell_type": "code",
   "execution_count": null,
   "metadata": {},
   "outputs": [],
   "source": [
    "df_reaction.columns"
   ]
  },
  {
   "cell_type": "code",
   "execution_count": null,
   "metadata": {},
   "outputs": [],
   "source": [
    "# Function to classify messages\n",
    "def classify_message(msg):\n",
    "    # Tokenize the message\n",
    "    words = word_tokenize(msg.lower())  # Convert to lowercase for case-insensitivity\n",
    "    \n",
    "    # Remove stopwords\n",
    "    filtered_words = [word for word in words if word.isalnum() and word not in stopwords.words('english')]\n",
    "    \n",
    "    # Example classification logic (customize based on your needs)\n",
    "    if '?' in filtered_words:\n",
    "        return 'Question'\n",
    "    elif 'thanks' in filtered_words or 'thank you' in filtered_words:\n",
    "        return 'Thanks'\n",
    "    elif 'nice' in filtered_words or 'good job' in filtered_words:\n",
    "        return 'Appreciation'\n",
    "    else:\n",
    "        return 'Other'\n",
    "\n",
    "# Apply the classification function to each message in the DataFrame\n",
    "df_community['message_category'] = df_community['msg_content'].apply(classify_message)"
   ]
  },
  {
   "cell_type": "code",
   "execution_count": null,
   "metadata": {},
   "outputs": [],
   "source": [
    "category_counts = df_community['message_category'].value_counts()\n",
    "\n",
    "# Plot a bar chart\n",
    "category_counts.plot(kind='bar', color='skyblue')\n",
    "plt.xlabel('Message Category')\n",
    "plt.ylabel('Count')\n",
    "plt.title('Message Category Distribution')\n",
    "plt.show()"
   ]
  },
  {
   "cell_type": "code",
   "execution_count": null,
   "metadata": {},
   "outputs": [],
   "source": [
    "user_reactions = df_reaction.groupby('user_id')['reaction_count'].sum()\n",
    "\n",
    "# Sort the results to get the users with the most reactions\n",
    "user_reactions = user_reactions.sort_values(ascending=False)\n",
    "\n",
    "# Display the user_id and reaction_count for the top users\n",
    "top_users_reactions = user_reactions.reset_index()\n",
    "print(top_users_reactions[['user_id', 'reaction_count']])"
   ]
  },
  {
   "cell_type": "code",
   "execution_count": null,
   "metadata": {},
   "outputs": [],
   "source": [
    "user_id_name_dict = sl.get_user_map()\n",
    "# Access the dictionary within the tuple\n",
    "user_id_name_dict = user_id_name_dict[0]\n",
    "\n",
    "# Create a DataFrame from the dictionary\n",
    "df_users = pd.DataFrame(list(user_id_name_dict.items()), columns=['user_id', 'name'])\n",
    "# Merge the two DataFrames on the 'user_id' column\n",
    "df_merged = pd.merge(top_users_reactions, df_users, on='user_id')\n",
    "\n",
    "# Print the merged DataFrame\n",
    "print(df_merged)"
   ]
  },
  {
   "cell_type": "code",
   "execution_count": null,
   "metadata": {},
   "outputs": [],
   "source": [
    "plt.figure(figsize=(10, 6))\n",
    "plt.bar(df_merged['name'], df_merged['reaction_count'], color='skyblue')\n",
    "plt.xlabel('User Name')\n",
    "plt.ylabel('Reaction Count')\n",
    "plt.title('Reaction Counts by User')\n",
    "plt.xticks(rotation=45, ha='right')  # Rotate x-axis labels for better readability\n",
    "plt.tight_layout()  # Adjust layout to prevent clipping of labels\n",
    "plt.show()"
   ]
  },
  {
   "cell_type": "code",
   "execution_count": null,
   "metadata": {},
   "outputs": [],
   "source": []
  },
  {
   "cell_type": "code",
   "execution_count": null,
   "metadata": {},
   "outputs": [],
   "source": []
  },
  {
   "cell_type": "markdown",
   "metadata": {},
   "source": [
    "### Harder questions to look into"
   ]
  },
  {
   "cell_type": "code",
   "execution_count": null,
   "metadata": {},
   "outputs": [],
   "source": [
    "# Based on messages, reactions, references shared, and other relevant data such as classification of questions into techical question, comment, answer, aorder stu the python, statistics, and sql skill level of a user?"
   ]
  }
 ],
 "metadata": {
  "kernelspec": {
   "display_name": "Python 3",
   "language": "python",
   "name": "python3"
  },
  "language_info": {
   "codemirror_mode": {
    "name": "ipython",
    "version": 3
   },
   "file_extension": ".py",
   "mimetype": "text/x-python",
   "name": "python",
   "nbconvert_exporter": "python",
   "pygments_lexer": "ipython3",
   "version": "3.11.5"
  }
 },
 "nbformat": 4,
 "nbformat_minor": 4
}
