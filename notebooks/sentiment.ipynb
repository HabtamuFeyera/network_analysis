{
 "cells": [
  {
   "cell_type": "code",
   "execution_count": null,
   "metadata": {},
   "outputs": [],
   "source": [
    "%reload_ext autoreload\n",
    "%autoreload 2\n",
    "import os\n",
    "import sys\n",
    "import seaborn as sns\n",
    "\n",
    "import pandas as pd\n",
    "from textblob import TextBlob\n",
    "import matplotlib.pyplot as plt\n",
    "# Add parent directory to path to import modules from src\n",
    "rpath = os.path.abspath('..')\n",
    "if rpath not in sys.path:\n",
    "    sys.path.insert(0, rpath)\n",
    "\n",
    "from src.loader import SlackDataLoader\n",
    "import src.utils as utils\n",
    "from src.preprocessing import Preprocessing\n",
    "# Initialize DataLoader\n",
    "sdl = SlackDataLoader('../Anonymized_B6SlackExport_25Nov23/anonymized/')\n",
    "# Group all messages by day since the start of the training\n",
    "df = sdl.slack_channels_parser('../Anonymized_B6SlackExport_25Nov23/anonymized/')\n",
    "df['msg_sent_time'] = pd.to_datetime(df['msg_sent_time'], unit='s').dt.date\n",
    "# Concatenate messages for each day into one big text\n",
    "df_concat = df.groupby('msg_sent_time')['msg_content'] \\\n",
    "    .agg(lambda messages: ' '.join(str(message) for message in messages) if pd.notna(messages.name) else '') \\\n",
    "    .reset_index(name='msg_content')\n",
    "df_concat"
   ]
  },
  {
   "cell_type": "code",
   "execution_count": null,
   "metadata": {},
   "outputs": [],
   "source": [
    "preprocess = Preprocessing(df_concat)\n",
    "processed_df_concat = preprocess.preprocess_messages(df_concat,'msg_content')\n",
    "def calculate_sentiment(row):\n",
    "    try:\n",
    "        blob = TextBlob(row['msg_content'])\n",
    "        sentiment = blob.sentiment.polarity\n",
    "        return {'Day': row.name, 'Sentiment': sentiment}\n",
    "    except Exception as e:\n",
    "        print(f\"Error processing row {row.name}: {e}\")\n",
    "        return {'Day': row.name, 'Sentiment': None}\n",
    "\n",
    "# Apply the function to each row and convert the result to a DataFrame\n",
    "senti_df = processed_df_concat.apply(calculate_sentiment, axis=1).apply(pd.Series)\n",
    "plt.figure(figsize=(12, 6))\n",
    "plt.plot(senti_df['Day'], senti_df['Sentiment'], marker='o')\n",
    "plt.title('Time Series Change in Sentiment')\n",
    "plt.xlabel('Day')\n",
    "plt.ylabel('Sentiment')\n",
    "plt.grid(True)\n",
    "plt.show()"
   ]
  }
 ],
 "metadata": {
  "language_info": {
   "name": "python"
  }
 },
 "nbformat": 4,
 "nbformat_minor": 2
}
